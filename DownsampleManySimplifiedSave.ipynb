{
 "cells": [
  {
   "cell_type": "code",
   "execution_count": 46,
   "metadata": {},
   "outputs": [],
   "source": [
    "import math\n",
    "import numpy as np\n",
    "import h5py\n",
    "from tqdm import tqdm\n",
    "import scipy as sp\n",
    "from scipy.sparse import csr_matrix"
   ]
  },
  {
   "cell_type": "code",
   "execution_count": 47,
   "metadata": {},
   "outputs": [],
   "source": [
    "hf = h5py.File('clean_run_0102.h5', 'r')"
   ]
  },
  {
   "cell_type": "code",
   "execution_count": 48,
   "metadata": {},
   "outputs": [],
   "source": [
    "events = hf['clean']"
   ]
  },
  {
   "cell_type": "code",
   "execution_count": 49,
   "metadata": {},
   "outputs": [
    {
     "name": "stdout",
     "output_type": "stream",
     "text": [
      "69631\n"
     ]
    }
   ],
   "source": [
    "print(len(events))"
   ]
  },
  {
   "cell_type": "code",
   "execution_count": 50,
   "metadata": {},
   "outputs": [],
   "source": [
    "DETECTOR_LENGTH = 1000.0\n",
    "DETECTOR_RADIUS = 275.0\n",
    "\n",
    "x_disc = 20\n",
    "y_disc = 20\n",
    "z_disc = 20\n",
    "\n",
    "x_inc = (2*DETECTOR_RADIUS)/x_disc\n",
    "y_inc = (2*DETECTOR_RADIUS)/y_disc\n",
    "z_inc = DETECTOR_LENGTH/z_disc"
   ]
  },
  {
   "cell_type": "code",
   "execution_count": 53,
   "metadata": {},
   "outputs": [],
   "source": [
    "f = h5py.File(\"downsampled-test-small.h5\", \"w\")"
   ]
  },
  {
   "cell_type": "code",
   "execution_count": 56,
   "metadata": {},
   "outputs": [
    {
     "name": "stderr",
     "output_type": "stream",
     "text": [
      "100%|██████████| 100/100 [00:03<00:00, 28.74it/s]\n"
     ]
    }
   ],
   "source": [
    "discElements = x_disc*y_disc*z_disc\n",
    "\n",
    "buckets = []\n",
    "charges = []\n",
    "downsampled = []\n",
    "\n",
    "test_events = list(range(100))\n",
    "\n",
    "for i in tqdm(test_events):\n",
    "    evt = str(i)\n",
    "    num_pts = 0\n",
    "    discretized_xyz = np.zeros([events[evt].shape[0],events[evt].shape[1]])\n",
    "    for point in events[evt]:\n",
    "        x_bucket = math.floor(((point[0]+DETECTOR_RADIUS)/(2*DETECTOR_RADIUS))*x_disc)\n",
    "        y_bucket = math.floor(((point[1]+DETECTOR_RADIUS)/(2*DETECTOR_RADIUS))*y_disc)\n",
    "        z_bucket = math.floor((point[2]/DETECTOR_LENGTH)*z_disc)\n",
    "\n",
    "        bucket_num = z_bucket*x_disc*y_disc + x_bucket + y_bucket*x_disc\n",
    "    \n",
    "        #sparse matrix implementation\n",
    "        buckets.append(bucket_num)\n",
    "        charges.append(point[3]/10)\n",
    "    \n",
    "        avg_x = -DETECTOR_RADIUS + ((2*x_bucket+1)*x_inc)/2.0\n",
    "        avg_y = -DETECTOR_RADIUS + ((2*y_bucket+1)*y_inc)/2.0\n",
    "        avg_z = ((2*z_bucket+1)*z_inc)/2.0                          \n",
    "    \n",
    "        discretized_xyz[num_pts] = [avg_x, avg_y, avg_z, point[3], point[4], point[5], point[6]]\n",
    "    \n",
    "        num_pts += 1\n",
    "\n",
    "    #create csr matrix where data is chrage and row np.zeros(len(col)) of size (1, discElements)\n",
    "    cols = buckets\n",
    "    rows = np.zeros(len(cols))\n",
    "    data = charges\n",
    "\n",
    "    #automatically sums data entries for data occuring at the same point\n",
    "    #no need for sum_duplicates()\n",
    "    discretized_data_sparse_CHARGE  = sp.sparse.csr_matrix((data, (rows, cols)), shape=(1, discElements))\n",
    "\n",
    "    f.create_dataset(evt, data=discretized_xyz)"
   ]
  },
  {
   "cell_type": "code",
   "execution_count": 58,
   "metadata": {},
   "outputs": [],
   "source": [
    "f.close()"
   ]
  }
 ],
 "metadata": {
  "kernelspec": {
   "display_name": "Python 3",
   "language": "python",
   "name": "python3"
  },
  "language_info": {
   "codemirror_mode": {
    "name": "ipython",
    "version": 3
   },
   "file_extension": ".py",
   "mimetype": "text/x-python",
   "name": "python",
   "nbconvert_exporter": "python",
   "pygments_lexer": "ipython3",
   "version": "3.6.8"
  }
 },
 "nbformat": 4,
 "nbformat_minor": 4
}
