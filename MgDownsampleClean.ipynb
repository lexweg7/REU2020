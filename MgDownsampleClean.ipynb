{
 "cells": [
  {
   "cell_type": "code",
   "execution_count": 1,
   "metadata": {},
   "outputs": [],
   "source": [
    "import math\n",
    "import numpy as np\n",
    "import h5py\n",
    "import matplotlib.pyplot as plt\n",
    "import scipy as sp\n",
    "from scipy.sparse import csr_matrix"
   ]
  },
  {
   "cell_type": "code",
   "execution_count": 2,
   "metadata": {},
   "outputs": [],
   "source": [
    "hf = h5py.File('output_digi_HDF_1000.h5', 'r')"
   ]
  },
  {
   "cell_type": "code",
   "execution_count": 3,
   "metadata": {},
   "outputs": [],
   "source": [
    "events = []\n",
    "for i in hf.keys():\n",
    "    events.append(hf[i])"
   ]
  },
  {
   "cell_type": "code",
   "execution_count": 4,
   "metadata": {},
   "outputs": [],
   "source": [
    "DETECTOR_LENGTH = 1000.0\n",
    "DETECTOR_RADIUS = 275.0\n",
    "\n",
    "x_disc = 128\n",
    "y_disc = 128\n",
    "z_disc = 128\n",
    "\n",
    "x_inc = (2*DETECTOR_RADIUS)/x_disc\n",
    "y_inc = (2*DETECTOR_RADIUS)/y_disc\n",
    "z_inc = DETECTOR_LENGTH/z_disc"
   ]
  },
  {
   "cell_type": "code",
   "execution_count": 5,
   "metadata": {},
   "outputs": [],
   "source": [
    "#DISCRETIZING A BUNCH XY\n",
    "discElements = x_disc*y_disc*z_disc\n",
    "\n",
    "buckets = []\n",
    "amplitudes = []\n",
    "\n",
    "test_events = list(range(100))\n",
    "new_data = []\n",
    "\n",
    "for i in range(len(events)):\n",
    "    new_events = np.zeros(128*128*128)\n",
    "    num_pts = 0\n",
    "    discretized_xyz = np.zeros([len(events[i]),5])\n",
    "    for point in events[i]:\n",
    "        x_bucket = math.floor(((point[0]+DETECTOR_RADIUS)/(2*DETECTOR_RADIUS))*x_disc)\n",
    "        y_bucket = math.floor(((point[1]+DETECTOR_RADIUS)/(2*DETECTOR_RADIUS))*y_disc)\n",
    "        z_bucket = math.floor((point[2]/DETECTOR_LENGTH)*z_disc)\n",
    "\n",
    "        bucket_num = z_bucket*x_disc*y_disc + x_bucket + y_bucket*x_disc\n",
    "    \n",
    "        #sparse matrix implementation\n",
    "        buckets.append(bucket_num)\n",
    "        amplitudes.append(point[4])\n",
    "    \n",
    "        avg_x = -DETECTOR_RADIUS + ((2*x_bucket+1)*x_inc)/2.0\n",
    "        avg_y = -DETECTOR_RADIUS + ((2*y_bucket+1)*y_inc)/2.0\n",
    "        avg_z = ((2*z_bucket+1)*z_inc)/2.0   \n",
    "        \n",
    "        new_events[bucket_num] = point[2]\n",
    "    \n",
    "        discretized_xyz[num_pts] = [avg_x, avg_y, avg_z, float(point[3]), point[4]]\n",
    "    \n",
    "        num_pts += 1\n",
    "\n",
    "    \n",
    "    E = new_events.reshape((128,128,128))\n",
    "    E_2d = np.sum(E,axis=0)\n",
    "    new_data.append(E_2d)"
   ]
  },
  {
   "cell_type": "code",
   "execution_count": 6,
   "metadata": {},
   "outputs": [],
   "source": [
    "new_data=np.array(new_data)"
   ]
  },
  {
   "cell_type": "code",
   "execution_count": 7,
   "metadata": {},
   "outputs": [
    {
     "name": "stdout",
     "output_type": "stream",
     "text": [
      "(2000, 128, 128)\n"
     ]
    }
   ],
   "source": [
    "#Make sure it's the right shape\n",
    "print(new_data.shape)"
   ]
  },
  {
   "cell_type": "code",
   "execution_count": 8,
   "metadata": {},
   "outputs": [
    {
     "data": {
      "image/png": "[encoded data removed]",
      "text/plain": [
       "<Figure size 1080x1080 with 10 Axes>"
      ]
     },
     "metadata": {},
     "output_type": "display_data"
    }
   ],
   "source": [
    "#Make sure they look right\n",
    "plt.figure(figsize=(15,15))\n",
    "for i in range(10):\n",
    "    plt.subplot(4,4,i+1)\n",
    "    plt.xticks([])\n",
    "    plt.yticks([])\n",
    "    plt.grid(False)\n",
    "    plt.imshow(new_data[i])\n",
    "    plt.xlabel(i)\n",
    "plt.show()"
   ]
  },
  {
   "cell_type": "code",
   "execution_count": 9,
   "metadata": {},
   "outputs": [],
   "source": [
    "#Image labels: 1 for beam only, 2 for beam and track\n",
    "count = []\n",
    "for i in range(2000):\n",
    "    if i == 0:\n",
    "        num=1\n",
    "    elif(i % 2) == 0:\n",
    "        num = 2\n",
    "    else:\n",
    "        num = 1\n",
    "        \n",
    "    count.append(num)"
   ]
  },
  {
   "cell_type": "code",
   "execution_count": 10,
   "metadata": {},
   "outputs": [],
   "source": [
    "count=np.array(count)"
   ]
  },
  {
   "cell_type": "code",
   "execution_count": null,
   "metadata": {},
   "outputs": [],
   "source": [
    "#Save as h5 file if wanted\n",
    "\n",
    "#f = h5py.File(\"xy-Mg22.h5\", \"w\")\n",
    "#dset = f.create_dataset(\"features\", data=new_data)\n",
    "#dset2 = f.create_dataset(\"targets\", data=count)\n",
    "#f.close()"
   ]
  }
 ],
 "metadata": {
  "kernelspec": {
   "display_name": "Python 3",
   "language": "python",
   "name": "python3"
  },
  "language_info": {
   "codemirror_mode": {
    "name": "ipython",
    "version": 3
   },
   "file_extension": ".py",
   "mimetype": "text/x-python",
   "name": "python",
   "nbconvert_exporter": "python",
   "pygments_lexer": "ipython3",
   "version": "3.6.8"
  }
 },
 "nbformat": 4,
 "nbformat_minor": 4
}
