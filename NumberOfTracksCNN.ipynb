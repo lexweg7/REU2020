{
 "cells": [
  {
   "cell_type": "code",
   "execution_count": 1,
   "metadata": {},
   "outputs": [
    {
     "name": "stdout",
     "output_type": "stream",
     "text": [
      "2.0.0\n"
     ]
    }
   ],
   "source": [
    "import tensorflow as tf\n",
    "from tensorflow import reshape\n",
    "from tensorflow.keras import datasets, layers, models, metrics, Model\n",
    "from tensorflow.keras.callbacks import Callback\n",
    "from sklearn.metrics import classification_report\n",
    "import numpy as np\n",
    "import matplotlib.pyplot as plt\n",
    "import h5py\n",
    "\n",
    "print(tf.__version__)"
   ]
  },
  {
   "cell_type": "code",
   "execution_count": 2,
   "metadata": {},
   "outputs": [],
   "source": [
    "hf = h5py.File('layered-proton-tracks.h5', 'r')"
   ]
  },
  {
   "cell_type": "code",
   "execution_count": 3,
   "metadata": {},
   "outputs": [],
   "source": [
    "image_width, image_length, image_channels = 128, 128, 3\n",
    "image_shape = (128,128,3)"
   ]
  },
  {
   "cell_type": "code",
   "execution_count": 4,
   "metadata": {},
   "outputs": [],
   "source": [
    "data = hf['features']\n",
    "label = hf['targets']"
   ]
  },
  {
   "cell_type": "code",
   "execution_count": 5,
   "metadata": {},
   "outputs": [],
   "source": [
    "train_data = data[0:32000]\n",
    "test_data = data[32000:40000]\n",
    "train_label = label[0:32000]\n",
    "test_label = label[32000:40000]"
   ]
  },
  {
   "cell_type": "code",
   "execution_count": 6,
   "metadata": {},
   "outputs": [
    {
     "data": {
      "text/plain": [
       "(32000, 128, 128, 1)"
      ]
     },
     "execution_count": 6,
     "metadata": {},
     "output_type": "execute_result"
    }
   ],
   "source": [
    "from numpy import expand_dims\n",
    "train_data=expand_dims(train_data, axis=3)\n",
    "train_data.shape"
   ]
  },
  {
   "cell_type": "code",
   "execution_count": 7,
   "metadata": {},
   "outputs": [
    {
     "data": {
      "text/plain": [
       "(32000, 128, 128, 3)"
      ]
     },
     "execution_count": 7,
     "metadata": {},
     "output_type": "execute_result"
    }
   ],
   "source": [
    "train_data = np.concatenate((train_data,)*3, axis=-1)\n",
    "train_data.shape"
   ]
  },
  {
   "cell_type": "code",
   "execution_count": 8,
   "metadata": {},
   "outputs": [
    {
     "data": {
      "text/plain": [
       "(8000, 128, 128, 1)"
      ]
     },
     "execution_count": 8,
     "metadata": {},
     "output_type": "execute_result"
    }
   ],
   "source": [
    "test_data=expand_dims(test_data, axis=3)\n",
    "test_data.shape"
   ]
  },
  {
   "cell_type": "code",
   "execution_count": 9,
   "metadata": {},
   "outputs": [
    {
     "data": {
      "text/plain": [
       "(8000, 128, 128, 3)"
      ]
     },
     "execution_count": 9,
     "metadata": {},
     "output_type": "execute_result"
    }
   ],
   "source": [
    "test_data=np.concatenate((test_data,)*3, axis=-1)\n",
    "test_data.shape"
   ]
  },
  {
   "cell_type": "code",
   "execution_count": 10,
   "metadata": {},
   "outputs": [],
   "source": [
    "train_data = train_data.reshape((len(train_data), image_width, image_length, image_channels))"
   ]
  },
  {
   "cell_type": "code",
   "execution_count": 11,
   "metadata": {},
   "outputs": [],
   "source": [
    "train_data = train_data/255.0\n",
    "test_data = test_data/255.0"
   ]
  },
  {
   "cell_type": "code",
   "execution_count": 12,
   "metadata": {},
   "outputs": [],
   "source": [
    "callback = tf.keras.callbacks.EarlyStopping(monitor='val_loss', patience=10)"
   ]
  },
  {
   "cell_type": "code",
   "execution_count": 13,
   "metadata": {},
   "outputs": [],
   "source": [
    "vgg16_model = tf.keras.applications.VGG16(input_shape=image_shape, include_top=False, weights='imagenet')"
   ]
  },
  {
   "cell_type": "code",
   "execution_count": 14,
   "metadata": {},
   "outputs": [],
   "source": [
    "vgg16_model.trainable=False"
   ]
  },
  {
   "cell_type": "code",
   "execution_count": 15,
   "metadata": {},
   "outputs": [],
   "source": [
    "CNN_model = tf.keras.Sequential()\n",
    "CNN_model.add(vgg16_model)\n",
    "CNN_model.add(layers.Flatten())\n",
    "CNN_model.add(layers.Dense(250, activation='relu'))\n",
    "CNN_model.add(layers.Dropout(0.5))\n",
    "CNN_model.add(layers.Dense(250, activation='relu'))\n",
    "CNN_model.add(layers.Dropout(0.5))\n",
    "CNN_model.add(layers.Dense(4, activation='softmax'))\n",
    "\n",
    "CNN_model.compile(optimizer = tf.keras.optimizers.Adam(learning_rate=0.00002),\n",
    "                 loss=tf.keras.losses.SparseCategoricalCrossentropy(from_logits=False),\n",
    "                 metrics=['accuracy'])"
   ]
  },
  {
   "cell_type": "code",
   "execution_count": 16,
   "metadata": {},
   "outputs": [
    {
     "name": "stdout",
     "output_type": "stream",
     "text": [
      "Train on 22400 samples, validate on 9600 samples\n",
      "Epoch 1/45\n",
      "22400/22400 [==============================] - 29s 1ms/sample - loss: 0.5924 - accuracy: 0.7797 - val_loss: 0.1061 - val_accuracy: 0.9940\n",
      "Epoch 2/45\n",
      "22400/22400 [==============================] - 25s 1ms/sample - loss: 0.1379 - accuracy: 0.9724 - val_loss: 0.0197 - val_accuracy: 0.9986\n",
      "Epoch 3/45\n",
      "22400/22400 [==============================] - 25s 1ms/sample - loss: 0.0545 - accuracy: 0.9901 - val_loss: 0.0070 - val_accuracy: 0.9997\n",
      "Epoch 4/45\n",
      "22400/22400 [==============================] - 25s 1ms/sample - loss: 0.0275 - accuracy: 0.9954 - val_loss: 0.0034 - val_accuracy: 0.9998\n",
      "Epoch 5/45\n",
      "22400/22400 [==============================] - 25s 1ms/sample - loss: 0.0170 - accuracy: 0.9973 - val_loss: 0.0023 - val_accuracy: 0.9998\n",
      "Epoch 6/45\n",
      "22400/22400 [==============================] - 25s 1ms/sample - loss: 0.0119 - accuracy: 0.9982 - val_loss: 0.0018 - val_accuracy: 0.9997\n",
      "Epoch 7/45\n",
      "22400/22400 [==============================] - 25s 1ms/sample - loss: 0.0086 - accuracy: 0.9987 - val_loss: 9.7387e-04 - val_accuracy: 0.9998\n",
      "Epoch 8/45\n",
      "22400/22400 [==============================] - 25s 1ms/sample - loss: 0.0061 - accuracy: 0.9988 - val_loss: 8.1354e-04 - val_accuracy: 0.9998\n",
      "Epoch 9/45\n",
      "22400/22400 [==============================] - 25s 1ms/sample - loss: 0.0051 - accuracy: 0.9991 - val_loss: 8.5481e-04 - val_accuracy: 0.9999\n",
      "Epoch 10/45\n",
      "22400/22400 [==============================] - 25s 1ms/sample - loss: 0.0050 - accuracy: 0.9989 - val_loss: 5.3195e-04 - val_accuracy: 0.9998\n",
      "Epoch 11/45\n",
      "22400/22400 [==============================] - 25s 1ms/sample - loss: 0.0028 - accuracy: 0.9993 - val_loss: 4.3573e-04 - val_accuracy: 0.9999\n",
      "Epoch 12/45\n",
      "22400/22400 [==============================] - 25s 1ms/sample - loss: 0.0026 - accuracy: 0.9995 - val_loss: 5.4306e-04 - val_accuracy: 0.9999\n",
      "Epoch 13/45\n",
      "22400/22400 [==============================] - 25s 1ms/sample - loss: 0.0018 - accuracy: 0.9997 - val_loss: 4.6810e-04 - val_accuracy: 0.9999\n",
      "Epoch 14/45\n",
      "22400/22400 [==============================] - 25s 1ms/sample - loss: 0.0023 - accuracy: 0.9996 - val_loss: 3.7798e-04 - val_accuracy: 0.9999\n",
      "Epoch 15/45\n",
      "22400/22400 [==============================] - 25s 1ms/sample - loss: 0.0013 - accuracy: 0.9998 - val_loss: 4.7706e-04 - val_accuracy: 0.9999\n",
      "Epoch 16/45\n",
      "22400/22400 [==============================] - 25s 1ms/sample - loss: 0.0013 - accuracy: 0.9999 - val_loss: 4.1246e-04 - val_accuracy: 0.9999\n",
      "Epoch 17/45\n",
      "22400/22400 [==============================] - 26s 1ms/sample - loss: 0.0014 - accuracy: 0.9996 - val_loss: 2.9405e-04 - val_accuracy: 0.9999\n",
      "Epoch 18/45\n",
      "22400/22400 [==============================] - 25s 1ms/sample - loss: 0.0012 - accuracy: 0.9997 - val_loss: 2.2293e-04 - val_accuracy: 0.9999\n",
      "Epoch 19/45\n",
      "22400/22400 [==============================] - 25s 1ms/sample - loss: 0.0011 - accuracy: 0.9998 - val_loss: 2.2909e-04 - val_accuracy: 0.9999\n",
      "Epoch 20/45\n",
      "22400/22400 [==============================] - 26s 1ms/sample - loss: 8.6739e-04 - accuracy: 0.9999 - val_loss: 2.8724e-04 - val_accuracy: 0.9999\n",
      "Epoch 21/45\n",
      "22400/22400 [==============================] - 25s 1ms/sample - loss: 5.1036e-04 - accuracy: 1.0000 - val_loss: 3.0113e-04 - val_accuracy: 0.9999\n",
      "Epoch 22/45\n",
      "22400/22400 [==============================] - 25s 1ms/sample - loss: 5.1841e-04 - accuracy: 0.9999 - val_loss: 5.0122e-04 - val_accuracy: 0.9998\n",
      "Epoch 23/45\n",
      "22400/22400 [==============================] - 25s 1ms/sample - loss: 8.9125e-04 - accuracy: 0.9996 - val_loss: 1.5344e-04 - val_accuracy: 0.9999\n",
      "Epoch 24/45\n",
      "22400/22400 [==============================] - 25s 1ms/sample - loss: 5.3604e-04 - accuracy: 0.9999 - val_loss: 2.7268e-04 - val_accuracy: 0.9999\n",
      "Epoch 25/45\n",
      "22400/22400 [==============================] - 25s 1ms/sample - loss: 6.7990e-04 - accuracy: 0.9998 - val_loss: 3.1460e-04 - val_accuracy: 0.9999\n",
      "Epoch 26/45\n",
      "22400/22400 [==============================] - 25s 1ms/sample - loss: 7.0331e-04 - accuracy: 0.9999 - val_loss: 1.3837e-04 - val_accuracy: 0.9999\n",
      "Epoch 27/45\n",
      "22400/22400 [==============================] - 25s 1ms/sample - loss: 3.3686e-04 - accuracy: 1.0000 - val_loss: 1.2551e-04 - val_accuracy: 0.9999\n",
      "Epoch 28/45\n",
      "22400/22400 [==============================] - 25s 1ms/sample - loss: 2.7151e-04 - accuracy: 1.0000 - val_loss: 1.0966e-04 - val_accuracy: 1.0000\n",
      "Epoch 29/45\n",
      "22400/22400 [==============================] - 25s 1ms/sample - loss: 1.4206e-04 - accuracy: 1.0000 - val_loss: 2.1892e-04 - val_accuracy: 0.9999\n",
      "Epoch 30/45\n",
      "22400/22400 [==============================] - 25s 1ms/sample - loss: 1.8122e-04 - accuracy: 1.0000 - val_loss: 4.8047e-04 - val_accuracy: 0.9999\n",
      "Epoch 31/45\n",
      "22400/22400 [==============================] - 25s 1ms/sample - loss: 6.9142e-04 - accuracy: 0.9996 - val_loss: 3.8121e-04 - val_accuracy: 0.9999\n",
      "Epoch 32/45\n",
      "22400/22400 [==============================] - 25s 1ms/sample - loss: 4.4520e-04 - accuracy: 0.9999 - val_loss: 2.7540e-04 - val_accuracy: 0.9999\n",
      "Epoch 33/45\n",
      "22400/22400 [==============================] - 25s 1ms/sample - loss: 1.5560e-04 - accuracy: 1.0000 - val_loss: 4.0280e-04 - val_accuracy: 0.9999\n",
      "Epoch 34/45\n",
      "22400/22400 [==============================] - 25s 1ms/sample - loss: 8.0985e-04 - accuracy: 0.9998 - val_loss: 3.1111e-04 - val_accuracy: 0.9999\n",
      "Epoch 35/45\n",
      "22400/22400 [==============================] - 25s 1ms/sample - loss: 2.0568e-04 - accuracy: 1.0000 - val_loss: 1.4191e-04 - val_accuracy: 0.9999\n",
      "Epoch 36/45\n",
      "22400/22400 [==============================] - 25s 1ms/sample - loss: 1.9717e-04 - accuracy: 1.0000 - val_loss: 1.9509e-04 - val_accuracy: 0.9999\n",
      "Epoch 37/45\n",
      "22400/22400 [==============================] - 25s 1ms/sample - loss: 1.4909e-04 - accuracy: 1.0000 - val_loss: 3.2222e-04 - val_accuracy: 0.9999\n",
      "Epoch 38/45\n",
      "22400/22400 [==============================] - 25s 1ms/sample - loss: 3.3011e-04 - accuracy: 0.9999 - val_loss: 8.5464e-05 - val_accuracy: 0.9999\n",
      "Epoch 39/45\n",
      "22400/22400 [==============================] - 25s 1ms/sample - loss: 2.4418e-04 - accuracy: 1.0000 - val_loss: 4.0433e-04 - val_accuracy: 0.9999\n",
      "Epoch 40/45\n",
      "22400/22400 [==============================] - 25s 1ms/sample - loss: 5.3443e-04 - accuracy: 0.9999 - val_loss: 1.9030e-04 - val_accuracy: 0.9999\n",
      "Epoch 41/45\n",
      "22400/22400 [==============================] - 25s 1ms/sample - loss: 1.4996e-04 - accuracy: 1.0000 - val_loss: 1.5368e-04 - val_accuracy: 0.9999\n",
      "Epoch 42/45\n",
      "22400/22400 [==============================] - 25s 1ms/sample - loss: 1.6498e-04 - accuracy: 1.0000 - val_loss: 2.3639e-04 - val_accuracy: 0.9999\n",
      "Epoch 43/45\n",
      "22400/22400 [==============================] - 25s 1ms/sample - loss: 1.3801e-04 - accuracy: 1.0000 - val_loss: 2.6112e-04 - val_accuracy: 0.9999\n",
      "Epoch 44/45\n",
      "22400/22400 [==============================] - 25s 1ms/sample - loss: 6.0978e-05 - accuracy: 1.0000 - val_loss: 4.4359e-05 - val_accuracy: 1.0000\n",
      "Epoch 45/45\n",
      "22400/22400 [==============================] - 25s 1ms/sample - loss: 1.7653e-04 - accuracy: 1.0000 - val_loss: 5.8062e-04 - val_accuracy: 0.9998\n"
     ]
    }
   ],
   "source": [
    "CNN_history = CNN_model.fit(train_data, train_label, epochs=45,\n",
    "                           batch_size=32,\n",
    "                           shuffle=True,\n",
    "                           callbacks = [callback],\n",
    "                           validation_split=0.3)"
   ]
  },
  {
   "cell_type": "code",
   "execution_count": 17,
   "metadata": {},
   "outputs": [
    {
     "name": "stdout",
     "output_type": "stream",
     "text": [
      "8000/1 - 6s - loss: 4.6399e-04 - accuracy: 0.9996\n"
     ]
    }
   ],
   "source": [
    "result = CNN_model.evaluate(test_data, test_label, verbose=2)"
   ]
  },
  {
   "cell_type": "code",
   "execution_count": 18,
   "metadata": {},
   "outputs": [],
   "source": [
    "predictions = np.argmax(CNN_model.predict(test_data[:]),axis=1)"
   ]
  },
  {
   "cell_type": "code",
   "execution_count": 19,
   "metadata": {},
   "outputs": [
    {
     "name": "stdout",
     "output_type": "stream",
     "text": [
      "              precision    recall  f1-score   support\n",
      "\n",
      "           1       1.00      1.00      1.00      2633\n",
      "           2       1.00      1.00      1.00      2693\n",
      "           3       1.00      1.00      1.00      2674\n",
      "\n",
      "    accuracy                           1.00      8000\n",
      "   macro avg       1.00      1.00      1.00      8000\n",
      "weighted avg       1.00      1.00      1.00      8000\n",
      "\n"
     ]
    }
   ],
   "source": [
    "print(classification_report(test_label, predictions))"
   ]
  },
  {
   "cell_type": "code",
   "execution_count": 21,
   "metadata": {},
   "outputs": [
    {
     "data": {
      "image/png": "[encoded data removed]",
      "text/plain": [
       "<Figure size 432x288 with 1 Axes>"
      ]
     },
     "metadata": {
      "needs_background": "light"
     },
     "output_type": "display_data"
    }
   ],
   "source": [
    "plt.plot(CNN_history.history['loss'])\n",
    "plt.plot(CNN_history.history['val_loss'])\n",
    "plt.title('Model Loss')\n",
    "plt.yscale(\"log\")\n",
    "plt.ylabel('Loss')\n",
    "plt.xlabel('epoch')\n",
    "plt.legend(['train', 'test'], loc='upper left')\n",
    "plt.show()"
   ]
  },
  {
   "cell_type": "code",
   "execution_count": 22,
   "metadata": {},
   "outputs": [],
   "source": [
    "from sklearn.metrics import confusion_matrix\n",
    "from sklearn.metrics import plot_confusion_matrix\n",
    "import itertools"
   ]
  },
  {
   "cell_type": "code",
   "execution_count": 23,
   "metadata": {},
   "outputs": [],
   "source": [
    "cm = confusion_matrix(test_label, predictions)"
   ]
  },
  {
   "cell_type": "code",
   "execution_count": 24,
   "metadata": {},
   "outputs": [],
   "source": [
    "def plot_confusion_matrix(cm, classes,\n",
    "                         normalize=False,\n",
    "                         title='Confusion matrix',\n",
    "                         include_values=True,\n",
    "                         cmap=plt.cm.Blues):\n",
    "    plt.imshow(cm, interpolation='nearest', cmap=cmap)\n",
    "    plt.title(title)\n",
    "    plt.colorbar()\n",
    "    tick_marks = np.arange(len(classes))\n",
    "    plt.xticks(tick_marks, classes, rotation=0)\n",
    "    plt.yticks(tick_marks, classes)\n",
    "    \n",
    "    thresh = cm.max() / 2\n",
    "    for i, j in itertools.product(range(cm.shape[0]), range(cm.shape[1])):\n",
    "        plt.text(j, i, cm[i, j],\n",
    "                horizontalalignment=\"center\",\n",
    "                color=\"white\" if cm[i, j] > thresh else \"black\")\n",
    "    \n",
    "    \n",
    "    plt.tight_layout()\n",
    "    plt.ylabel('True label')\n",
    "    plt.xlabel('Predicted label')"
   ]
  },
  {
   "cell_type": "code",
   "execution_count": 25,
   "metadata": {},
   "outputs": [
    {
     "data": {
      "image/png": "[encoded data removed]",
      "text/plain": [
       "<Figure size 432x288 with 2 Axes>"
      ]
     },
     "metadata": {
      "needs_background": "light"
     },
     "output_type": "display_data"
    }
   ],
   "source": [
    "cm_plot_labels = ['1', '2', '3']\n",
    "plot_confusion_matrix(cm, cm_plot_labels, title='Confusion matrix')"
   ]
  },
  {
   "cell_type": "code",
   "execution_count": null,
   "metadata": {},
   "outputs": [],
   "source": []
  }
 ],
 "metadata": {
  "kernelspec": {
   "display_name": "Python 3",
   "language": "python",
   "name": "python3"
  },
  "language_info": {
   "codemirror_mode": {
    "name": "ipython",
    "version": 3
   },
   "file_extension": ".py",
   "mimetype": "text/x-python",
   "name": "python",
   "nbconvert_exporter": "python",
   "pygments_lexer": "ipython3",
   "version": "3.6.8"
  }
 },
 "nbformat": 4,
 "nbformat_minor": 4
}
