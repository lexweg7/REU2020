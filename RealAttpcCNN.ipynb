{
 "cells": [
  {
   "cell_type": "code",
   "execution_count": 1,
   "metadata": {},
   "outputs": [
    {
     "name": "stdout",
     "output_type": "stream",
     "text": [
      "2.0.0\n"
     ]
    }
   ],
   "source": [
    "import tensorflow as tf\n",
    "from tensorflow import reshape\n",
    "from tensorflow.keras import datasets, layers, models, metrics, Model\n",
    "from tensorflow.keras.callbacks import Callback\n",
    "#from data import load_image_h5\n",
    "from sklearn.metrics import classification_report\n",
    "import numpy as np\n",
    "import matplotlib.pyplot as plt\n",
    "import h5py\n",
    "#import datetime\n",
    "print(tf.__version__)"
   ]
  },
  {
   "cell_type": "code",
   "execution_count": 2,
   "metadata": {},
   "outputs": [],
   "source": [
    "hf = h5py.File('real-attpc-events.h5', 'r')"
   ]
  },
  {
   "cell_type": "code",
   "execution_count": 3,
   "metadata": {},
   "outputs": [],
   "source": [
    "image_width, image_length, image_channels = 128, 128, 3\n",
    "image_shape = (128,128,3)"
   ]
  },
  {
   "cell_type": "code",
   "execution_count": 4,
   "metadata": {},
   "outputs": [],
   "source": [
    "data = hf['features']\n",
    "label = hf['targets']"
   ]
  },
  {
   "cell_type": "code",
   "execution_count": 5,
   "metadata": {},
   "outputs": [
    {
     "data": {
      "text/plain": [
       "(2689, 128, 128)"
      ]
     },
     "execution_count": 5,
     "metadata": {},
     "output_type": "execute_result"
    }
   ],
   "source": [
    "data.shape"
   ]
  },
  {
   "cell_type": "code",
   "execution_count": 6,
   "metadata": {},
   "outputs": [],
   "source": [
    "train_data = data[0:2151]\n",
    "test_data = data[2151:2689]\n",
    "train_label = label[0:2151]\n",
    "test_label = label[2151:2689]"
   ]
  },
  {
   "cell_type": "code",
   "execution_count": 7,
   "metadata": {},
   "outputs": [
    {
     "data": {
      "text/plain": [
       "(2151, 128, 128, 1)"
      ]
     },
     "execution_count": 7,
     "metadata": {},
     "output_type": "execute_result"
    }
   ],
   "source": [
    "from numpy import expand_dims\n",
    "train_data=expand_dims(train_data, axis=3)\n",
    "train_data.shape"
   ]
  },
  {
   "cell_type": "code",
   "execution_count": 8,
   "metadata": {},
   "outputs": [
    {
     "data": {
      "text/plain": [
       "(2151, 128, 128, 3)"
      ]
     },
     "execution_count": 8,
     "metadata": {},
     "output_type": "execute_result"
    }
   ],
   "source": [
    "train_data = np.concatenate((train_data,)*3, axis=-1)\n",
    "train_data.shape"
   ]
  },
  {
   "cell_type": "code",
   "execution_count": 9,
   "metadata": {},
   "outputs": [
    {
     "data": {
      "text/plain": [
       "(538, 128, 128, 1)"
      ]
     },
     "execution_count": 9,
     "metadata": {},
     "output_type": "execute_result"
    }
   ],
   "source": [
    "test_data=expand_dims(test_data, axis=3)\n",
    "test_data.shape"
   ]
  },
  {
   "cell_type": "code",
   "execution_count": 10,
   "metadata": {},
   "outputs": [
    {
     "data": {
      "text/plain": [
       "(538, 128, 128, 3)"
      ]
     },
     "execution_count": 10,
     "metadata": {},
     "output_type": "execute_result"
    }
   ],
   "source": [
    "test_data=np.concatenate((test_data,)*3, axis=-1)\n",
    "test_data.shape"
   ]
  },
  {
   "cell_type": "code",
   "execution_count": 11,
   "metadata": {},
   "outputs": [],
   "source": [
    "train_data = train_data.reshape((len(train_data), image_width, image_length, image_channels))"
   ]
  },
  {
   "cell_type": "code",
   "execution_count": 12,
   "metadata": {},
   "outputs": [],
   "source": [
    "train_data = train_data/255.0\n",
    "test_data = test_data/255.0"
   ]
  },
  {
   "cell_type": "code",
   "execution_count": 13,
   "metadata": {},
   "outputs": [],
   "source": [
    "callback = tf.keras.callbacks.EarlyStopping(monitor='val_loss', patience=10)"
   ]
  },
  {
   "cell_type": "code",
   "execution_count": 14,
   "metadata": {},
   "outputs": [],
   "source": [
    "vgg19_model = tf.keras.applications.VGG19(input_shape=image_shape, include_top=False, weights='imagenet')"
   ]
  },
  {
   "cell_type": "code",
   "execution_count": 15,
   "metadata": {},
   "outputs": [],
   "source": [
    "vgg19_model.trainable=True"
   ]
  },
  {
   "cell_type": "code",
   "execution_count": 16,
   "metadata": {},
   "outputs": [
    {
     "name": "stdout",
     "output_type": "stream",
     "text": [
      "WARNING:tensorflow:Large dropout rate: 0.6 (>0.5). In TensorFlow 2.x, dropout() uses dropout rate instead of keep_prob. Please ensure that this is intended.\n",
      "WARNING:tensorflow:Large dropout rate: 0.6 (>0.5). In TensorFlow 2.x, dropout() uses dropout rate instead of keep_prob. Please ensure that this is intended.\n"
     ]
    }
   ],
   "source": [
    "CNN_model = tf.keras.Sequential()\n",
    "CNN_model.add(vgg19_model)\n",
    "CNN_model.add(layers.Flatten())\n",
    "CNN_model.add(layers.Dense(150, activation='relu'))\n",
    "CNN_model.add(layers.Dropout(0.6))\n",
    "CNN_model.add(layers.Dense(150, activation='relu'))\n",
    "CNN_model.add(layers.Dropout(0.6))\n",
    "CNN_model.add(layers.Dense(3, activation='softmax'))\n",
    "\n",
    "CNN_model.compile(optimizer = tf.keras.optimizers.Adam(learning_rate=0.000001),\n",
    "                 loss=tf.keras.losses.SparseCategoricalCrossentropy(from_logits=False),\n",
    "                 metrics=['accuracy'])"
   ]
  },
  {
   "cell_type": "code",
   "execution_count": 17,
   "metadata": {},
   "outputs": [
    {
     "name": "stdout",
     "output_type": "stream",
     "text": [
      "Train on 1505 samples, validate on 646 samples\n",
      "Epoch 1/80\n",
      "WARNING:tensorflow:Large dropout rate: 0.6 (>0.5). In TensorFlow 2.x, dropout() uses dropout rate instead of keep_prob. Please ensure that this is intended.\n",
      "WARNING:tensorflow:Large dropout rate: 0.6 (>0.5). In TensorFlow 2.x, dropout() uses dropout rate instead of keep_prob. Please ensure that this is intended.\n",
      "WARNING:tensorflow:Large dropout rate: 0.6 (>0.5). In TensorFlow 2.x, dropout() uses dropout rate instead of keep_prob. Please ensure that this is intended.\n",
      "1505/1505 [==============================] - 10s 7ms/sample - loss: 1.4686 - accuracy: 0.3096 - val_loss: 0.9907 - val_accuracy: 0.5975\n",
      "Epoch 2/80\n",
      "1505/1505 [==============================] - 4s 3ms/sample - loss: 1.1940 - accuracy: 0.4279 - val_loss: 0.8860 - val_accuracy: 0.6161\n",
      "Epoch 3/80\n",
      "1505/1505 [==============================] - 4s 3ms/sample - loss: 1.1689 - accuracy: 0.4591 - val_loss: 0.8500 - val_accuracy: 0.6409\n",
      "Epoch 4/80\n",
      "1505/1505 [==============================] - 4s 3ms/sample - loss: 1.0665 - accuracy: 0.5043 - val_loss: 0.8267 - val_accuracy: 0.6594\n",
      "Epoch 5/80\n",
      "1505/1505 [==============================] - 4s 3ms/sample - loss: 0.9716 - accuracy: 0.5694 - val_loss: 0.7967 - val_accuracy: 0.6842\n",
      "Epoch 6/80\n",
      "1505/1505 [==============================] - 4s 3ms/sample - loss: 0.9783 - accuracy: 0.5561 - val_loss: 0.7681 - val_accuracy: 0.7307\n",
      "Epoch 7/80\n",
      "1505/1505 [==============================] - 4s 3ms/sample - loss: 0.9282 - accuracy: 0.6086 - val_loss: 0.7443 - val_accuracy: 0.7523\n",
      "Epoch 8/80\n",
      "1505/1505 [==============================] - 5s 3ms/sample - loss: 0.8688 - accuracy: 0.6326 - val_loss: 0.7149 - val_accuracy: 0.7585\n",
      "Epoch 9/80\n",
      "1505/1505 [==============================] - 5s 3ms/sample - loss: 0.8237 - accuracy: 0.6505 - val_loss: 0.6850 - val_accuracy: 0.7786\n",
      "Epoch 10/80\n",
      "1505/1505 [==============================] - 5s 3ms/sample - loss: 0.7964 - accuracy: 0.6877 - val_loss: 0.6602 - val_accuracy: 0.7817\n",
      "Epoch 11/80\n",
      "1505/1505 [==============================] - 5s 3ms/sample - loss: 0.7771 - accuracy: 0.6910 - val_loss: 0.6372 - val_accuracy: 0.7895\n",
      "Epoch 12/80\n",
      "1505/1505 [==============================] - 5s 3ms/sample - loss: 0.7494 - accuracy: 0.7070 - val_loss: 0.6192 - val_accuracy: 0.7895\n",
      "Epoch 13/80\n",
      "1505/1505 [==============================] - 5s 3ms/sample - loss: 0.7445 - accuracy: 0.7123 - val_loss: 0.5862 - val_accuracy: 0.7957\n",
      "Epoch 14/80\n",
      "1505/1505 [==============================] - 5s 3ms/sample - loss: 0.7123 - accuracy: 0.7110 - val_loss: 0.5618 - val_accuracy: 0.8034\n",
      "Epoch 15/80\n",
      "1505/1505 [==============================] - 5s 3ms/sample - loss: 0.6935 - accuracy: 0.7375 - val_loss: 0.5365 - val_accuracy: 0.8034\n",
      "Epoch 16/80\n",
      "1505/1505 [==============================] - 5s 3ms/sample - loss: 0.6585 - accuracy: 0.7429 - val_loss: 0.5212 - val_accuracy: 0.8003\n",
      "Epoch 17/80\n",
      "1505/1505 [==============================] - 5s 3ms/sample - loss: 0.6412 - accuracy: 0.7535 - val_loss: 0.5043 - val_accuracy: 0.8220\n",
      "Epoch 18/80\n",
      "1505/1505 [==============================] - 5s 3ms/sample - loss: 0.6461 - accuracy: 0.7542 - val_loss: 0.4872 - val_accuracy: 0.8297\n",
      "Epoch 19/80\n",
      "1505/1505 [==============================] - 5s 3ms/sample - loss: 0.6163 - accuracy: 0.7635 - val_loss: 0.4749 - val_accuracy: 0.8313\n",
      "Epoch 20/80\n",
      "1505/1505 [==============================] - 5s 3ms/sample - loss: 0.5959 - accuracy: 0.7668 - val_loss: 0.4516 - val_accuracy: 0.8452\n",
      "Epoch 21/80\n",
      "1505/1505 [==============================] - 5s 3ms/sample - loss: 0.5757 - accuracy: 0.7754 - val_loss: 0.4389 - val_accuracy: 0.8560\n",
      "Epoch 22/80\n",
      "1505/1505 [==============================] - 5s 3ms/sample - loss: 0.5820 - accuracy: 0.7814 - val_loss: 0.4276 - val_accuracy: 0.8545\n",
      "Epoch 23/80\n",
      "1505/1505 [==============================] - 5s 3ms/sample - loss: 0.5607 - accuracy: 0.7887 - val_loss: 0.4256 - val_accuracy: 0.8498\n",
      "Epoch 24/80\n",
      "1505/1505 [==============================] - 5s 3ms/sample - loss: 0.5535 - accuracy: 0.7801 - val_loss: 0.4142 - val_accuracy: 0.8607\n",
      "Epoch 25/80\n",
      "1505/1505 [==============================] - 5s 3ms/sample - loss: 0.5607 - accuracy: 0.7841 - val_loss: 0.4100 - val_accuracy: 0.8638\n",
      "Epoch 26/80\n",
      "1505/1505 [==============================] - 5s 3ms/sample - loss: 0.5276 - accuracy: 0.8146 - val_loss: 0.3999 - val_accuracy: 0.8591\n",
      "Epoch 27/80\n",
      "1505/1505 [==============================] - 5s 3ms/sample - loss: 0.5350 - accuracy: 0.7814 - val_loss: 0.4015 - val_accuracy: 0.8607\n",
      "Epoch 28/80\n",
      "1505/1505 [==============================] - 5s 3ms/sample - loss: 0.5258 - accuracy: 0.7907 - val_loss: 0.3989 - val_accuracy: 0.8560\n",
      "Epoch 29/80\n",
      "1505/1505 [==============================] - 5s 3ms/sample - loss: 0.5128 - accuracy: 0.7973 - val_loss: 0.3952 - val_accuracy: 0.8607\n",
      "Epoch 30/80\n",
      "1505/1505 [==============================] - 5s 3ms/sample - loss: 0.5044 - accuracy: 0.8159 - val_loss: 0.3926 - val_accuracy: 0.8622\n",
      "Epoch 31/80\n",
      "1505/1505 [==============================] - 5s 3ms/sample - loss: 0.4993 - accuracy: 0.8133 - val_loss: 0.3797 - val_accuracy: 0.8669\n",
      "Epoch 32/80\n",
      "1505/1505 [==============================] - 5s 3ms/sample - loss: 0.4864 - accuracy: 0.8239 - val_loss: 0.3805 - val_accuracy: 0.8653\n",
      "Epoch 33/80\n",
      "1505/1505 [==============================] - 5s 3ms/sample - loss: 0.4852 - accuracy: 0.7973 - val_loss: 0.3788 - val_accuracy: 0.8638\n",
      "Epoch 34/80\n",
      "1505/1505 [==============================] - 5s 3ms/sample - loss: 0.5191 - accuracy: 0.7887 - val_loss: 0.3743 - val_accuracy: 0.8669\n",
      "Epoch 35/80\n",
      "1505/1505 [==============================] - 5s 3ms/sample - loss: 0.4816 - accuracy: 0.8226 - val_loss: 0.3719 - val_accuracy: 0.8638\n",
      "Epoch 36/80\n",
      "1505/1505 [==============================] - 5s 3ms/sample - loss: 0.4709 - accuracy: 0.8352 - val_loss: 0.3689 - val_accuracy: 0.8715\n",
      "Epoch 37/80\n",
      "1505/1505 [==============================] - 5s 3ms/sample - loss: 0.4777 - accuracy: 0.8186 - val_loss: 0.3675 - val_accuracy: 0.8669\n",
      "Epoch 38/80\n",
      "1505/1505 [==============================] - 5s 3ms/sample - loss: 0.4508 - accuracy: 0.8332 - val_loss: 0.3648 - val_accuracy: 0.8638\n",
      "Epoch 39/80\n",
      "1505/1505 [==============================] - 5s 3ms/sample - loss: 0.4459 - accuracy: 0.8419 - val_loss: 0.3677 - val_accuracy: 0.8622\n",
      "Epoch 40/80\n",
      "1505/1505 [==============================] - 5s 3ms/sample - loss: 0.4599 - accuracy: 0.8266 - val_loss: 0.3615 - val_accuracy: 0.8731\n",
      "Epoch 41/80\n",
      "1505/1505 [==============================] - 5s 3ms/sample - loss: 0.4527 - accuracy: 0.8312 - val_loss: 0.3610 - val_accuracy: 0.8700\n",
      "Epoch 42/80\n",
      "1505/1505 [==============================] - 5s 3ms/sample - loss: 0.4378 - accuracy: 0.8385 - val_loss: 0.3679 - val_accuracy: 0.8653\n",
      "Epoch 43/80\n",
      "1505/1505 [==============================] - 5s 3ms/sample - loss: 0.4483 - accuracy: 0.8206 - val_loss: 0.3640 - val_accuracy: 0.8684\n",
      "Epoch 44/80\n",
      "1505/1505 [==============================] - 5s 3ms/sample - loss: 0.4285 - accuracy: 0.8339 - val_loss: 0.3596 - val_accuracy: 0.8653\n",
      "Epoch 45/80\n",
      "1505/1505 [==============================] - 5s 3ms/sample - loss: 0.4159 - accuracy: 0.8445 - val_loss: 0.3705 - val_accuracy: 0.8684\n",
      "Epoch 46/80\n",
      "1505/1505 [==============================] - 5s 3ms/sample - loss: 0.4460 - accuracy: 0.8272 - val_loss: 0.3731 - val_accuracy: 0.8622\n",
      "Epoch 47/80\n",
      "1505/1505 [==============================] - 5s 3ms/sample - loss: 0.4346 - accuracy: 0.8339 - val_loss: 0.3656 - val_accuracy: 0.8684\n",
      "Epoch 48/80\n",
      "1505/1505 [==============================] - 5s 3ms/sample - loss: 0.4427 - accuracy: 0.8319 - val_loss: 0.3588 - val_accuracy: 0.8684\n",
      "Epoch 49/80\n",
      "1505/1505 [==============================] - 5s 3ms/sample - loss: 0.4246 - accuracy: 0.8346 - val_loss: 0.3556 - val_accuracy: 0.8684\n",
      "Epoch 50/80\n",
      "1505/1505 [==============================] - 5s 3ms/sample - loss: 0.4096 - accuracy: 0.8505 - val_loss: 0.3550 - val_accuracy: 0.8715\n",
      "Epoch 51/80\n",
      "1505/1505 [==============================] - 5s 3ms/sample - loss: 0.4097 - accuracy: 0.8538 - val_loss: 0.3716 - val_accuracy: 0.8653\n",
      "Epoch 52/80\n",
      "1505/1505 [==============================] - 5s 3ms/sample - loss: 0.4004 - accuracy: 0.8532 - val_loss: 0.3542 - val_accuracy: 0.8700\n",
      "Epoch 53/80\n"
     ]
    },
    {
     "name": "stdout",
     "output_type": "stream",
     "text": [
      "1505/1505 [==============================] - 5s 3ms/sample - loss: 0.4143 - accuracy: 0.8332 - val_loss: 0.3535 - val_accuracy: 0.8715\n",
      "Epoch 54/80\n",
      "1505/1505 [==============================] - 5s 3ms/sample - loss: 0.4024 - accuracy: 0.8538 - val_loss: 0.3499 - val_accuracy: 0.8700\n",
      "Epoch 55/80\n",
      "1505/1505 [==============================] - 5s 3ms/sample - loss: 0.4206 - accuracy: 0.8551 - val_loss: 0.3546 - val_accuracy: 0.8731\n",
      "Epoch 56/80\n",
      "1505/1505 [==============================] - 5s 3ms/sample - loss: 0.3922 - accuracy: 0.8505 - val_loss: 0.3525 - val_accuracy: 0.8746\n",
      "Epoch 57/80\n",
      "1505/1505 [==============================] - 5s 3ms/sample - loss: 0.3891 - accuracy: 0.8518 - val_loss: 0.3532 - val_accuracy: 0.8715\n",
      "Epoch 58/80\n",
      "1505/1505 [==============================] - 5s 3ms/sample - loss: 0.3865 - accuracy: 0.8598 - val_loss: 0.3556 - val_accuracy: 0.8684\n",
      "Epoch 59/80\n",
      "1505/1505 [==============================] - 5s 3ms/sample - loss: 0.3873 - accuracy: 0.8625 - val_loss: 0.3547 - val_accuracy: 0.8700\n",
      "Epoch 60/80\n",
      "1505/1505 [==============================] - 5s 3ms/sample - loss: 0.3881 - accuracy: 0.8419 - val_loss: 0.3574 - val_accuracy: 0.8715\n",
      "Epoch 61/80\n",
      "1505/1505 [==============================] - 5s 3ms/sample - loss: 0.3872 - accuracy: 0.8578 - val_loss: 0.3490 - val_accuracy: 0.8715\n",
      "Epoch 62/80\n",
      "1505/1505 [==============================] - 5s 3ms/sample - loss: 0.3864 - accuracy: 0.8611 - val_loss: 0.3615 - val_accuracy: 0.8715\n",
      "Epoch 63/80\n",
      "1505/1505 [==============================] - 5s 3ms/sample - loss: 0.3510 - accuracy: 0.8651 - val_loss: 0.3505 - val_accuracy: 0.8731\n",
      "Epoch 64/80\n",
      "1505/1505 [==============================] - 5s 3ms/sample - loss: 0.3931 - accuracy: 0.8625 - val_loss: 0.3457 - val_accuracy: 0.8762\n",
      "Epoch 65/80\n",
      "1505/1505 [==============================] - 5s 3ms/sample - loss: 0.3720 - accuracy: 0.8664 - val_loss: 0.3503 - val_accuracy: 0.8700\n",
      "Epoch 66/80\n",
      "1505/1505 [==============================] - 5s 3ms/sample - loss: 0.3661 - accuracy: 0.8565 - val_loss: 0.3525 - val_accuracy: 0.8700\n",
      "Epoch 67/80\n",
      "1505/1505 [==============================] - 5s 3ms/sample - loss: 0.3824 - accuracy: 0.8578 - val_loss: 0.3563 - val_accuracy: 0.8684\n",
      "Epoch 68/80\n",
      "1505/1505 [==============================] - 5s 3ms/sample - loss: 0.3772 - accuracy: 0.8645 - val_loss: 0.3603 - val_accuracy: 0.8715\n",
      "Epoch 69/80\n",
      "1505/1505 [==============================] - 5s 3ms/sample - loss: 0.3719 - accuracy: 0.8518 - val_loss: 0.3572 - val_accuracy: 0.8669\n",
      "Epoch 70/80\n",
      "1505/1505 [==============================] - 5s 3ms/sample - loss: 0.3971 - accuracy: 0.8452 - val_loss: 0.3565 - val_accuracy: 0.8700\n",
      "Epoch 71/80\n",
      "1505/1505 [==============================] - 5s 3ms/sample - loss: 0.3789 - accuracy: 0.8598 - val_loss: 0.3516 - val_accuracy: 0.8715\n",
      "Epoch 72/80\n",
      "1505/1505 [==============================] - 5s 3ms/sample - loss: 0.3700 - accuracy: 0.8671 - val_loss: 0.3558 - val_accuracy: 0.8715\n",
      "Epoch 73/80\n",
      "1505/1505 [==============================] - 5s 3ms/sample - loss: 0.3512 - accuracy: 0.8731 - val_loss: 0.3488 - val_accuracy: 0.8731\n",
      "Epoch 74/80\n",
      "1505/1505 [==============================] - 5s 3ms/sample - loss: 0.3629 - accuracy: 0.8611 - val_loss: 0.3513 - val_accuracy: 0.8700\n"
     ]
    }
   ],
   "source": [
    "CNN_history = CNN_model.fit(train_data, train_label, epochs=80,\n",
    "                           batch_size=32,\n",
    "                           shuffle=True,\n",
    "                           callbacks = [callback],\n",
    "                           validation_split=0.3)"
   ]
  },
  {
   "cell_type": "code",
   "execution_count": 18,
   "metadata": {},
   "outputs": [
    {
     "name": "stdout",
     "output_type": "stream",
     "text": [
      "538/1 - 1s - loss: 0.3037 - accuracy: 0.8792\n"
     ]
    }
   ],
   "source": [
    "result = CNN_model.evaluate(test_data, test_label, verbose=2)"
   ]
  },
  {
   "cell_type": "code",
   "execution_count": 19,
   "metadata": {},
   "outputs": [],
   "source": [
    "predictions = np.argmax(CNN_model.predict(test_data[:]),axis=1)"
   ]
  },
  {
   "cell_type": "code",
   "execution_count": 20,
   "metadata": {},
   "outputs": [
    {
     "name": "stdout",
     "output_type": "stream",
     "text": [
      "              precision    recall  f1-score   support\n",
      "\n",
      "           0       0.93      0.93      0.93       128\n",
      "           1       0.55      0.63      0.59        57\n",
      "           2       0.92      0.90      0.91       353\n",
      "\n",
      "    accuracy                           0.88       538\n",
      "   macro avg       0.80      0.82      0.81       538\n",
      "weighted avg       0.88      0.88      0.88       538\n",
      "\n"
     ]
    }
   ],
   "source": [
    "print(classification_report(test_label, predictions))"
   ]
  },
  {
   "cell_type": "code",
   "execution_count": 21,
   "metadata": {},
   "outputs": [
    {
     "data": {
      "image/png": "[encoded data removed]",
      "text/plain": [
       "<Figure size 432x288 with 1 Axes>"
      ]
     },
     "metadata": {
      "needs_background": "light"
     },
     "output_type": "display_data"
    }
   ],
   "source": [
    "plt.plot(CNN_history.history['loss'])\n",
    "plt.plot(CNN_history.history['val_loss'])\n",
    "plt.title('Model Loss')\n",
    "#plt.yscale(\"log\")\n",
    "plt.ylabel('Loss')\n",
    "plt.xlabel('epoch')\n",
    "plt.legend(['train', 'test'], loc='upper left')\n",
    "plt.show()"
   ]
  },
  {
   "cell_type": "code",
   "execution_count": 22,
   "metadata": {},
   "outputs": [],
   "source": [
    "from sklearn.metrics import confusion_matrix\n",
    "from sklearn.metrics import plot_confusion_matrix\n",
    "import itertools"
   ]
  },
  {
   "cell_type": "code",
   "execution_count": 23,
   "metadata": {},
   "outputs": [],
   "source": [
    "cm = confusion_matrix(test_label, predictions)"
   ]
  },
  {
   "cell_type": "code",
   "execution_count": 24,
   "metadata": {},
   "outputs": [],
   "source": [
    "def plot_confusion_matrix(cm, classes,\n",
    "                         normalize=False,\n",
    "                         title='Confusion matrix',\n",
    "                         include_values=True,\n",
    "                         cmap=plt.cm.Blues):\n",
    "    plt.imshow(cm, interpolation='nearest', cmap=cmap)\n",
    "    plt.title(title)\n",
    "    plt.colorbar()\n",
    "    tick_marks = np.arange(len(classes))\n",
    "    plt.xticks(tick_marks, classes, rotation=0)\n",
    "    plt.yticks(tick_marks, classes)\n",
    "    \n",
    "    thresh = cm.max() / 2\n",
    "    for i, j in itertools.product(range(cm.shape[0]), range(cm.shape[1])):\n",
    "        plt.text(j, i, cm[i, j],\n",
    "                horizontalalignment=\"center\",\n",
    "                color=\"white\" if cm[i, j] > thresh else \"black\")\n",
    "    \n",
    "    \n",
    "    plt.tight_layout()\n",
    "    plt.ylabel('True label')\n",
    "    plt.xlabel('Predicted label')"
   ]
  },
  {
   "cell_type": "code",
   "execution_count": 25,
   "metadata": {},
   "outputs": [
    {
     "data": {
      "image/png": "[encoded data removed]",
      "text/plain": [
       "<Figure size 432x288 with 2 Axes>"
      ]
     },
     "metadata": {
      "needs_background": "light"
     },
     "output_type": "display_data"
    }
   ],
   "source": [
    "cm_plot_labels = ['0', '1', '2']\n",
    "plot_confusion_matrix(cm, cm_plot_labels, title='Confusion matrix')"
   ]
  },
  {
   "cell_type": "code",
   "execution_count": null,
   "metadata": {},
   "outputs": [],
   "source": []
  }
 ],
 "metadata": {
  "kernelspec": {
   "display_name": "Python 3",
   "language": "python",
   "name": "python3"
  },
  "language_info": {
   "codemirror_mode": {
    "name": "ipython",
    "version": 3
   },
   "file_extension": ".py",
   "mimetype": "text/x-python",
   "name": "python",
   "nbconvert_exporter": "python",
   "pygments_lexer": "ipython3",
   "version": "3.6.8"
  }
 },
 "nbformat": 4,
 "nbformat_minor": 4
}
