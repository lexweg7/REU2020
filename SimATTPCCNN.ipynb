{
 "cells": [
  {
   "cell_type": "code",
   "execution_count": 1,
   "metadata": {},
   "outputs": [
    {
     "name": "stdout",
     "output_type": "stream",
     "text": [
      "2.0.0\n"
     ]
    }
   ],
   "source": [
    "import tensorflow as tf\n",
    "from tensorflow import reshape\n",
    "from tensorflow.keras import datasets, layers, models, metrics, Model\n",
    "from tensorflow.keras.callbacks import Callback\n",
    "#from data import load_image_h5\n",
    "from sklearn.metrics import classification_report\n",
    "import numpy as np\n",
    "import matplotlib.pyplot as plt\n",
    "import h5py\n",
    "#import datetime\n",
    "print(tf.__version__)"
   ]
  },
  {
   "cell_type": "code",
   "execution_count": 2,
   "metadata": {},
   "outputs": [],
   "source": [
    "hf = h5py.File('simulated-attpc-events.h5', 'r')"
   ]
  },
  {
   "cell_type": "code",
   "execution_count": 3,
   "metadata": {},
   "outputs": [],
   "source": [
    "image_width, image_length, image_channels = 128, 128, 3\n",
    "image_shape = (128,128,3)"
   ]
  },
  {
   "cell_type": "code",
   "execution_count": 4,
   "metadata": {},
   "outputs": [],
   "source": [
    "data = hf['features']\n",
    "label = hf['targets']"
   ]
  },
  {
   "cell_type": "code",
   "execution_count": 5,
   "metadata": {},
   "outputs": [],
   "source": [
    "#data.shape"
   ]
  },
  {
   "cell_type": "code",
   "execution_count": 6,
   "metadata": {},
   "outputs": [],
   "source": [
    "train_data = data[0:40000]\n",
    "test_data = data[40000:50000]\n",
    "train_label = label[0:40000]\n",
    "test_label = label[40000:50000]"
   ]
  },
  {
   "cell_type": "code",
   "execution_count": 7,
   "metadata": {},
   "outputs": [
    {
     "data": {
      "text/plain": [
       "(40000, 128, 128, 1)"
      ]
     },
     "execution_count": 7,
     "metadata": {},
     "output_type": "execute_result"
    }
   ],
   "source": [
    "from numpy import expand_dims\n",
    "train_data=expand_dims(train_data, axis=3)\n",
    "#train_data=np.concatenate((train_data)*3, axis=-1)\n",
    "train_data.shape"
   ]
  },
  {
   "cell_type": "code",
   "execution_count": 8,
   "metadata": {},
   "outputs": [
    {
     "data": {
      "text/plain": [
       "(40000, 128, 128, 3)"
      ]
     },
     "execution_count": 8,
     "metadata": {},
     "output_type": "execute_result"
    }
   ],
   "source": [
    "train_data = np.concatenate((train_data,)*3, axis=-1)\n",
    "#train_data = np.stack((train_data,)*3, axis=-1)\n",
    "train_data.shape"
   ]
  },
  {
   "cell_type": "code",
   "execution_count": 9,
   "metadata": {},
   "outputs": [
    {
     "data": {
      "text/plain": [
       "(128, 128, 3)"
      ]
     },
     "execution_count": 9,
     "metadata": {},
     "output_type": "execute_result"
    }
   ],
   "source": [
    "train_data[0].shape"
   ]
  },
  {
   "cell_type": "code",
   "execution_count": 10,
   "metadata": {},
   "outputs": [
    {
     "data": {
      "text/plain": [
       "(10000, 128, 128, 1)"
      ]
     },
     "execution_count": 10,
     "metadata": {},
     "output_type": "execute_result"
    }
   ],
   "source": [
    "test_data=expand_dims(test_data, axis=3)\n",
    "test_data.shape"
   ]
  },
  {
   "cell_type": "code",
   "execution_count": 11,
   "metadata": {},
   "outputs": [
    {
     "data": {
      "text/plain": [
       "(10000, 128, 128, 3)"
      ]
     },
     "execution_count": 11,
     "metadata": {},
     "output_type": "execute_result"
    }
   ],
   "source": [
    "test_data=np.concatenate((test_data,)*3, axis=-1)\n",
    "test_data.shape"
   ]
  },
  {
   "cell_type": "code",
   "execution_count": 12,
   "metadata": {},
   "outputs": [],
   "source": [
    "#Reshape data (https://www.machinecurve.com/index.php/2020/04/13/how-to-use-h5py-and-keras-to-train-with-data-from-hdf5-files/)\n",
    "\n",
    "train_data = train_data.reshape((len(train_data), image_width, image_length, image_channels))\n",
    "#test_data = test_data.reshape((len(test_data), image_width, image_length, image_channels))"
   ]
  },
  {
   "cell_type": "code",
   "execution_count": 13,
   "metadata": {},
   "outputs": [],
   "source": [
    "#train_data[0]"
   ]
  },
  {
   "cell_type": "code",
   "execution_count": 14,
   "metadata": {},
   "outputs": [],
   "source": [
    "#plt.figure(figsize=(10,10))\n",
    "#for i in range(36):\n",
    "#    plt.subplot(6,6,i+1)\n",
    "#    plt.xticks([])\n",
    "#    plt.yticks([])\n",
    "#    plt.grid(False)\n",
    "#    plt.imshow(train_data[i], cmap=plt.cm.binary)\n",
    "#    plt.xlabel(train_label[i])\n",
    "#plt.show()"
   ]
  },
  {
   "cell_type": "code",
   "execution_count": 15,
   "metadata": {},
   "outputs": [],
   "source": [
    "#Normalize\n",
    "train_data = train_data/255.0\n",
    "test_data = test_data/255.0"
   ]
  },
  {
   "cell_type": "code",
   "execution_count": 16,
   "metadata": {},
   "outputs": [],
   "source": [
    "#Example from train_data\n",
    "#train_data[0]\n",
    "#plt.imshow(train_data[0])"
   ]
  },
  {
   "cell_type": "code",
   "execution_count": 17,
   "metadata": {},
   "outputs": [],
   "source": [
    "callback = tf.keras.callbacks.EarlyStopping(monitor='val_loss', patience=10)"
   ]
  },
  {
   "cell_type": "code",
   "execution_count": 18,
   "metadata": {},
   "outputs": [],
   "source": [
    "#log_dir = \"logs/fit/\" + \"CNN/VGG16\" + datetime.datetime.now().strftime(\"%Y%m%d-%H%M%S\")\n",
    "#tensorboard_callback = tf.keras.callbacks.TensorBoard(log_dir=log_dir, histogram_freq=1, profile_batch = 0)"
   ]
  },
  {
   "cell_type": "code",
   "execution_count": 19,
   "metadata": {},
   "outputs": [],
   "source": [
    "vgg16_model = tf.keras.applications.VGG16(input_shape=image_shape, include_top=False, weights='imagenet')"
   ]
  },
  {
   "cell_type": "code",
   "execution_count": 20,
   "metadata": {},
   "outputs": [],
   "source": [
    "vgg16_model.trainable=True"
   ]
  },
  {
   "cell_type": "code",
   "execution_count": 21,
   "metadata": {},
   "outputs": [
    {
     "name": "stdout",
     "output_type": "stream",
     "text": [
      "WARNING:tensorflow:Large dropout rate: 0.7 (>0.5). In TensorFlow 2.x, dropout() uses dropout rate instead of keep_prob. Please ensure that this is intended.\n",
      "WARNING:tensorflow:Large dropout rate: 0.7 (>0.5). In TensorFlow 2.x, dropout() uses dropout rate instead of keep_prob. Please ensure that this is intended.\n"
     ]
    }
   ],
   "source": [
    "CNN_model = tf.keras.Sequential()\n",
    "CNN_model.add(vgg16_model)\n",
    "CNN_model.add(layers.Flatten())\n",
    "CNN_model.add(layers.Dense(256, activation='relu'))\n",
    "CNN_model.add(layers.Dropout(0.7))\n",
    "CNN_model.add(layers.Dense(256, activation='relu'))\n",
    "CNN_model.add(layers.Dropout(0.7))\n",
    "CNN_model.add(layers.Dense(3, activation='softmax'))\n",
    "\n",
    "CNN_model.compile(optimizer = tf.keras.optimizers.Adam(learning_rate=0.000001),\n",
    "                 loss=tf.keras.losses.SparseCategoricalCrossentropy(from_logits=False),\n",
    "                 metrics=['accuracy'])"
   ]
  },
  {
   "cell_type": "code",
   "execution_count": 22,
   "metadata": {
    "scrolled": true
   },
   "outputs": [
    {
     "name": "stdout",
     "output_type": "stream",
     "text": [
      "Model: \"sequential\"\n",
      "_________________________________________________________________\n",
      "Layer (type)                 Output Shape              Param #   \n",
      "=================================================================\n",
      "vgg16 (Model)                (None, 4, 4, 512)         14714688  \n",
      "_________________________________________________________________\n",
      "flatten (Flatten)            (None, 8192)              0         \n",
      "_________________________________________________________________\n",
      "dense (Dense)                (None, 256)               2097408   \n",
      "_________________________________________________________________\n",
      "dropout (Dropout)            (None, 256)               0         \n",
      "_________________________________________________________________\n",
      "dense_1 (Dense)              (None, 256)               65792     \n",
      "_________________________________________________________________\n",
      "dropout_1 (Dropout)          (None, 256)               0         \n",
      "_________________________________________________________________\n",
      "dense_2 (Dense)              (None, 3)                 771       \n",
      "=================================================================\n",
      "Total params: 16,878,659\n",
      "Trainable params: 16,878,659\n",
      "Non-trainable params: 0\n",
      "_________________________________________________________________\n"
     ]
    }
   ],
   "source": [
    "CNN_model.summary()"
   ]
  },
  {
   "cell_type": "code",
   "execution_count": 23,
   "metadata": {},
   "outputs": [
    {
     "name": "stdout",
     "output_type": "stream",
     "text": [
      "Train on 28000 samples, validate on 12000 samples\n",
      "Epoch 1/45\n",
      "WARNING:tensorflow:Large dropout rate: 0.7 (>0.5). In TensorFlow 2.x, dropout() uses dropout rate instead of keep_prob. Please ensure that this is intended.\n",
      "WARNING:tensorflow:Large dropout rate: 0.7 (>0.5). In TensorFlow 2.x, dropout() uses dropout rate instead of keep_prob. Please ensure that this is intended.\n",
      "WARNING:tensorflow:Large dropout rate: 0.7 (>0.5). In TensorFlow 2.x, dropout() uses dropout rate instead of keep_prob. Please ensure that this is intended.\n",
      "28000/28000 [==============================] - 76s 3ms/sample - loss: 1.2234 - accuracy: 0.4395 - val_loss: 0.6225 - val_accuracy: 0.8763\n",
      "Epoch 2/45\n",
      "28000/28000 [==============================] - 71s 3ms/sample - loss: 0.6010 - accuracy: 0.7425 - val_loss: 0.2584 - val_accuracy: 0.9275\n",
      "Epoch 3/45\n",
      "28000/28000 [==============================] - 73s 3ms/sample - loss: 0.3945 - accuracy: 0.8455 - val_loss: 0.1589 - val_accuracy: 0.9514\n",
      "Epoch 4/45\n",
      "28000/28000 [==============================] - 73s 3ms/sample - loss: 0.3004 - accuracy: 0.8893 - val_loss: 0.1165 - val_accuracy: 0.9588\n",
      "Epoch 5/45\n",
      "28000/28000 [==============================] - 74s 3ms/sample - loss: 0.2444 - accuracy: 0.9109 - val_loss: 0.0808 - val_accuracy: 0.9727\n",
      "Epoch 6/45\n",
      "28000/28000 [==============================] - 74s 3ms/sample - loss: 0.2056 - accuracy: 0.9281 - val_loss: 0.0659 - val_accuracy: 0.9778\n",
      "Epoch 7/45\n",
      "28000/28000 [==============================] - 73s 3ms/sample - loss: 0.1709 - accuracy: 0.9395 - val_loss: 0.0559 - val_accuracy: 0.9812\n",
      "Epoch 8/45\n",
      "28000/28000 [==============================] - 73s 3ms/sample - loss: 0.1504 - accuracy: 0.9477 - val_loss: 0.0467 - val_accuracy: 0.9838\n",
      "Epoch 9/45\n",
      "28000/28000 [==============================] - 73s 3ms/sample - loss: 0.1327 - accuracy: 0.9532 - val_loss: 0.0516 - val_accuracy: 0.9811\n",
      "Epoch 10/45\n",
      "28000/28000 [==============================] - 73s 3ms/sample - loss: 0.1209 - accuracy: 0.9581 - val_loss: 0.0392 - val_accuracy: 0.9862\n",
      "Epoch 11/45\n",
      "28000/28000 [==============================] - 73s 3ms/sample - loss: 0.1051 - accuracy: 0.9643 - val_loss: 0.0375 - val_accuracy: 0.9878\n",
      "Epoch 12/45\n",
      "28000/28000 [==============================] - 73s 3ms/sample - loss: 0.1024 - accuracy: 0.9651 - val_loss: 0.0318 - val_accuracy: 0.9892\n",
      "Epoch 13/45\n",
      "28000/28000 [==============================] - 73s 3ms/sample - loss: 0.0904 - accuracy: 0.9684 - val_loss: 0.0317 - val_accuracy: 0.9896\n",
      "Epoch 14/45\n",
      "28000/28000 [==============================] - 73s 3ms/sample - loss: 0.0814 - accuracy: 0.9730 - val_loss: 0.0294 - val_accuracy: 0.9908\n",
      "Epoch 15/45\n",
      "28000/28000 [==============================] - 73s 3ms/sample - loss: 0.0763 - accuracy: 0.9751 - val_loss: 0.0274 - val_accuracy: 0.9915\n",
      "Epoch 16/45\n",
      "28000/28000 [==============================] - 73s 3ms/sample - loss: 0.0735 - accuracy: 0.9754 - val_loss: 0.0314 - val_accuracy: 0.9901\n",
      "Epoch 17/45\n",
      "28000/28000 [==============================] - 74s 3ms/sample - loss: 0.0672 - accuracy: 0.9780 - val_loss: 0.0275 - val_accuracy: 0.9916\n",
      "Epoch 18/45\n",
      "28000/28000 [==============================] - 73s 3ms/sample - loss: 0.0606 - accuracy: 0.9798 - val_loss: 0.0245 - val_accuracy: 0.9928\n",
      "Epoch 19/45\n",
      "28000/28000 [==============================] - 73s 3ms/sample - loss: 0.0554 - accuracy: 0.9816 - val_loss: 0.0234 - val_accuracy: 0.9935\n",
      "Epoch 20/45\n",
      "28000/28000 [==============================] - 73s 3ms/sample - loss: 0.0528 - accuracy: 0.9833 - val_loss: 0.0232 - val_accuracy: 0.9937\n",
      "Epoch 21/45\n",
      "28000/28000 [==============================] - 73s 3ms/sample - loss: 0.0490 - accuracy: 0.9845 - val_loss: 0.0256 - val_accuracy: 0.9927\n",
      "Epoch 22/45\n",
      "28000/28000 [==============================] - 73s 3ms/sample - loss: 0.0447 - accuracy: 0.9850 - val_loss: 0.0353 - val_accuracy: 0.9908\n",
      "Epoch 23/45\n",
      "28000/28000 [==============================] - 73s 3ms/sample - loss: 0.0414 - accuracy: 0.9860 - val_loss: 0.0226 - val_accuracy: 0.9938\n",
      "Epoch 24/45\n",
      "28000/28000 [==============================] - 73s 3ms/sample - loss: 0.0387 - accuracy: 0.9870 - val_loss: 0.0223 - val_accuracy: 0.9943\n",
      "Epoch 25/45\n",
      "28000/28000 [==============================] - 73s 3ms/sample - loss: 0.0388 - accuracy: 0.9874 - val_loss: 0.0226 - val_accuracy: 0.9942\n",
      "Epoch 26/45\n",
      "28000/28000 [==============================] - 73s 3ms/sample - loss: 0.0350 - accuracy: 0.9886 - val_loss: 0.0271 - val_accuracy: 0.9931\n",
      "Epoch 27/45\n",
      "28000/28000 [==============================] - 73s 3ms/sample - loss: 0.0325 - accuracy: 0.9896 - val_loss: 0.0240 - val_accuracy: 0.9939\n",
      "Epoch 28/45\n",
      "28000/28000 [==============================] - 73s 3ms/sample - loss: 0.0316 - accuracy: 0.9901 - val_loss: 0.0228 - val_accuracy: 0.9944\n",
      "Epoch 29/45\n",
      "28000/28000 [==============================] - 73s 3ms/sample - loss: 0.0273 - accuracy: 0.9912 - val_loss: 0.0282 - val_accuracy: 0.9938\n",
      "Epoch 30/45\n",
      "28000/28000 [==============================] - 73s 3ms/sample - loss: 0.0292 - accuracy: 0.9903 - val_loss: 0.0235 - val_accuracy: 0.9946\n",
      "Epoch 31/45\n",
      "28000/28000 [==============================] - 73s 3ms/sample - loss: 0.0265 - accuracy: 0.9912 - val_loss: 0.0240 - val_accuracy: 0.9947\n",
      "Epoch 32/45\n",
      "28000/28000 [==============================] - 73s 3ms/sample - loss: 0.0242 - accuracy: 0.9919 - val_loss: 0.0250 - val_accuracy: 0.9947\n",
      "Epoch 33/45\n",
      "28000/28000 [==============================] - 73s 3ms/sample - loss: 0.0227 - accuracy: 0.9924 - val_loss: 0.0239 - val_accuracy: 0.9950\n",
      "Epoch 34/45\n",
      "28000/28000 [==============================] - 73s 3ms/sample - loss: 0.0196 - accuracy: 0.9934 - val_loss: 0.0255 - val_accuracy: 0.9949\n"
     ]
    }
   ],
   "source": [
    "CNN_history = CNN_model.fit(train_data, train_label, epochs=45,\n",
    "                           batch_size=32,\n",
    "                           shuffle=True,\n",
    "                           callbacks = [callback],\n",
    "                           validation_split=0.3)"
   ]
  },
  {
   "cell_type": "code",
   "execution_count": 24,
   "metadata": {},
   "outputs": [
    {
     "name": "stdout",
     "output_type": "stream",
     "text": [
      "10000/1 - 9s - loss: 0.2556 - accuracy: 0.9950\n"
     ]
    }
   ],
   "source": [
    "result = CNN_model.evaluate(test_data, test_label, verbose=2)"
   ]
  },
  {
   "cell_type": "code",
   "execution_count": 25,
   "metadata": {},
   "outputs": [],
   "source": [
    "predictions = np.argmax(CNN_model.predict(test_data[:]),axis=1)"
   ]
  },
  {
   "cell_type": "code",
   "execution_count": 26,
   "metadata": {},
   "outputs": [
    {
     "data": {
      "text/plain": [
       "(10000,)"
      ]
     },
     "execution_count": 26,
     "metadata": {},
     "output_type": "execute_result"
    }
   ],
   "source": [
    "predictions.shape"
   ]
  },
  {
   "cell_type": "code",
   "execution_count": 27,
   "metadata": {},
   "outputs": [],
   "source": [
    "#test_data[1]\n",
    "#plt.imshow(test_data[1])"
   ]
  },
  {
   "cell_type": "code",
   "execution_count": 28,
   "metadata": {},
   "outputs": [],
   "source": [
    "#predictions[1]"
   ]
  },
  {
   "cell_type": "code",
   "execution_count": 29,
   "metadata": {},
   "outputs": [
    {
     "name": "stdout",
     "output_type": "stream",
     "text": [
      "              precision    recall  f1-score   support\n",
      "\n",
      "           0       0.99      0.99      0.99      3347\n",
      "           1       1.00      1.00      1.00      3181\n",
      "           2       0.99      0.99      0.99      3472\n",
      "\n",
      "    accuracy                           0.99     10000\n",
      "   macro avg       1.00      1.00      1.00     10000\n",
      "weighted avg       1.00      0.99      1.00     10000\n",
      "\n"
     ]
    }
   ],
   "source": [
    "print(classification_report(test_label, predictions))"
   ]
  },
  {
   "cell_type": "code",
   "execution_count": 30,
   "metadata": {},
   "outputs": [
    {
     "name": "stdout",
     "output_type": "stream",
     "text": [
      "dict_keys(['loss', 'accuracy', 'val_loss', 'val_accuracy'])\n"
     ]
    }
   ],
   "source": [
    "print(CNN_history.history.keys())"
   ]
  },
  {
   "cell_type": "code",
   "execution_count": 31,
   "metadata": {},
   "outputs": [
    {
     "data": {
      "image/png": "[encoded data removed]",
      "text/plain": [
       "<Figure size 432x288 with 1 Axes>"
      ]
     },
     "metadata": {
      "needs_background": "light"
     },
     "output_type": "display_data"
    }
   ],
   "source": [
    "plt.plot(CNN_history.history['loss'])\n",
    "plt.plot(CNN_history.history['val_loss'])\n",
    "plt.title('Model Loss')\n",
    "#plt.yscale(\"log\")\n",
    "plt.ylabel('Loss')\n",
    "plt.xlabel('epoch')\n",
    "plt.legend(['train', 'test'], loc='upper left')\n",
    "plt.show()"
   ]
  },
  {
   "cell_type": "code",
   "execution_count": 32,
   "metadata": {},
   "outputs": [],
   "source": [
    "from sklearn.metrics import confusion_matrix\n",
    "from sklearn.metrics import plot_confusion_matrix\n",
    "import itertools"
   ]
  },
  {
   "cell_type": "code",
   "execution_count": 33,
   "metadata": {},
   "outputs": [],
   "source": [
    "cm = confusion_matrix(test_label, predictions)"
   ]
  },
  {
   "cell_type": "code",
   "execution_count": 34,
   "metadata": {},
   "outputs": [],
   "source": [
    "def plot_confusion_matrix(cm, classes,\n",
    "                         normalize=False,\n",
    "                         title='Confusion matrix',\n",
    "                         include_values=True,\n",
    "                         cmap=plt.cm.Blues):\n",
    "    plt.imshow(cm, interpolation='nearest', cmap=cmap)\n",
    "    plt.title(title)\n",
    "    plt.colorbar()\n",
    "    tick_marks = np.arange(len(classes))\n",
    "    plt.xticks(tick_marks, classes, rotation=0)\n",
    "    plt.yticks(tick_marks, classes)\n",
    "    \n",
    "    thresh = cm.max() / 2\n",
    "    for i, j in itertools.product(range(cm.shape[0]), range(cm.shape[1])):\n",
    "        plt.text(j, i, cm[i, j],\n",
    "                horizontalalignment=\"center\",\n",
    "                color=\"white\" if cm[i, j] > thresh else \"black\")\n",
    "    \n",
    "    \n",
    "    plt.tight_layout()\n",
    "    plt.ylabel('True label')\n",
    "    plt.xlabel('Predicted label')"
   ]
  },
  {
   "cell_type": "code",
   "execution_count": 35,
   "metadata": {},
   "outputs": [
    {
     "data": {
      "image/png": "[encoded data removed]",
      "text/plain": [
       "<Figure size 432x288 with 2 Axes>"
      ]
     },
     "metadata": {
      "needs_background": "light"
     },
     "output_type": "display_data"
    }
   ],
   "source": [
    "cm_plot_labels = ['0', '1', '2']\n",
    "plot_confusion_matrix(cm, cm_plot_labels, title='Confusion matrix')"
   ]
  },
  {
   "cell_type": "code",
   "execution_count": null,
   "metadata": {},
   "outputs": [],
   "source": []
  }
 ],
 "metadata": {
  "kernelspec": {
   "display_name": "Python 3",
   "language": "python",
   "name": "python3"
  },
  "language_info": {
   "codemirror_mode": {
    "name": "ipython",
    "version": 3
   },
   "file_extension": ".py",
   "mimetype": "text/x-python",
   "name": "python",
   "nbconvert_exporter": "python",
   "pygments_lexer": "ipython3",
   "version": "3.6.8"
  }
 },
 "nbformat": 4,
 "nbformat_minor": 4
}
